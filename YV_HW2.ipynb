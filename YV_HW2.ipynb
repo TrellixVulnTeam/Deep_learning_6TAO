{
  "cells": [
    {
      "cell_type": "markdown",
      "metadata": {
        "id": "vYiZq0X2oB5t"
      },
      "source": [
        "# **CSCE 5218 / CSCE 4930 Deep Learning**\n",
        "\n",
        "# **HW1a The Perceptron** (20 pt)\n"
      ]
    },
    {
      "cell_type": "code",
      "execution_count": 1,
      "metadata": {
        "colab": {
          "base_uri": "https://localhost:8080/"
        },
        "id": "vGVmKzgG2Ium",
        "outputId": "4cc2ca21-861a-4fba-a38c-83e3ec04bec8"
      },
      "outputs": [
        {
          "name": "stdout",
          "output_type": "stream",
          "text": [
            "--2022-02-05 10:20:50--  http://huang.eng.unt.edu/CSCE-5218/test.dat\n",
            "Resolving huang.eng.unt.edu (huang.eng.unt.edu)... 129.120.123.155\n",
            "Connecting to huang.eng.unt.edu (huang.eng.unt.edu)|129.120.123.155|:80... connected.\n",
            "HTTP request sent, awaiting response... 200 OK\n",
            "Length: 2844 (2.8K)\n",
            "Saving to: ‘test.dat.3’\n",
            "\n",
            "test.dat.3          100%[===================>]   2.78K  --.-KB/s    in 0s      \n",
            "\n",
            "2022-02-05 10:20:50 (181 MB/s) - ‘test.dat.3’ saved [2844/2844]\n",
            "\n",
            "--2022-02-05 10:20:50--  http://huang.eng.unt.edu/CSCE-5218/train.dat\n",
            "Resolving huang.eng.unt.edu (huang.eng.unt.edu)... 129.120.123.155\n",
            "Connecting to huang.eng.unt.edu (huang.eng.unt.edu)|129.120.123.155|:80... connected.\n",
            "HTTP request sent, awaiting response... 200 OK\n",
            "Length: 11244 (11K)\n",
            "Saving to: ‘train.dat.3’\n",
            "\n",
            "train.dat.3         100%[===================>]  10.98K  --.-KB/s    in 0s      \n",
            "\n",
            "2022-02-05 10:20:50 (112 MB/s) - ‘train.dat.3’ saved [11244/11244]\n",
            "\n"
          ]
        }
      ],
      "source": [
        "# Get the datasets\n",
        "!wget http://huang.eng.unt.edu/CSCE-5218/test.dat\n",
        "!wget http://huang.eng.unt.edu/CSCE-5218/train.dat\n"
      ]
    },
    {
      "cell_type": "code",
      "execution_count": 2,
      "metadata": {
        "colab": {
          "base_uri": "https://localhost:8080/"
        },
        "id": "A69DxPSc8vNs",
        "outputId": "5440e602-8ecd-44cf-d48d-2e8b00cdcc52"
      },
      "outputs": [
        {
          "name": "stdout",
          "output_type": "stream",
          "text": [
            "A1\tA2\tA3\tA4\tA5\tA6\tA7\tA8\tA9\tA10\tA11\tA12\tA13\t\n",
            "1\t1\t0\t0\t0\t0\t0\t0\t1\t1\t0\t0\t1\t0\n",
            "0\t0\t1\t1\t0\t1\t1\t0\t0\t0\t0\t0\t1\t0\n",
            "0\t1\t0\t1\t1\t0\t1\t0\t1\t1\t1\t0\t1\t1\n",
            "0\t0\t1\t0\t0\t1\t0\t1\t0\t1\t1\t1\t1\t0\n",
            "0\t1\t0\t0\t0\t0\t0\t1\t1\t1\t1\t1\t1\t0\n",
            "0\t1\t1\t1\t0\t0\t0\t1\t0\t1\t1\t0\t1\t1\n",
            "0\t1\t1\t0\t0\t0\t1\t0\t0\t0\t0\t0\t1\t0\n",
            "0\t0\t0\t1\t1\t0\t1\t1\t1\t0\t0\t0\t1\t0\n",
            "0\t0\t0\t0\t0\t0\t1\t0\t1\t0\t1\t0\t1\t0\n",
            "A1\tA2\tA3\tA4\tA5\tA6\tA7\tA8\tA9\tA10\tA11\tA12\tA13\n",
            "1\t1\t1\t1\t0\t0\t1\t1\t0\t0\t0\t1\t1\t0\n",
            "0\t0\t0\t1\t0\t0\t1\t1\t0\t1\t0\t0\t1\t0\n",
            "0\t1\t1\t1\t0\t1\t1\t1\t1\t0\t0\t0\t1\t0\n",
            "0\t1\t1\t0\t1\t0\t1\t1\t1\t0\t1\t0\t1\t0\n",
            "0\t1\t0\t0\t0\t1\t0\t1\t0\t1\t0\t0\t1\t0\n",
            "0\t1\t1\t0\t0\t1\t1\t1\t1\t1\t1\t0\t1\t0\n",
            "0\t1\t1\t1\t0\t0\t1\t1\t0\t0\t0\t1\t1\t0\n",
            "0\t1\t0\t0\t1\t0\t0\t1\t1\t0\t1\t1\t1\t0\n",
            "1\t1\t1\t1\t0\t0\t1\t1\t0\t0\t0\t0\t1\t0\n"
          ]
        }
      ],
      "source": [
        "# Take a peek at the datasets\n",
        "!head train.dat\n",
        "!head test.dat"
      ]
    },
    {
      "cell_type": "markdown",
      "metadata": {
        "id": "rFXHLhnhwiBR"
      },
      "source": [
        "### Build the Perceptron Model\n",
        "\n",
        "You will need to complete some of the function definitions below.  DO NOT import any other libraries to complete this. "
      ]
    },
    {
      "cell_type": "code",
      "execution_count": 3,
      "metadata": {},
      "outputs": [],
      "source": [
        "import math\n",
        "import itertools\n",
        "import re"
      ]
    },
    {
      "cell_type": "code",
      "execution_count": 4,
      "metadata": {},
      "outputs": [],
      "source": [
        "\n",
        "# Corpus reader, all columns but the last one are coordinates;\n",
        "#   the last column is the label\n",
        "def read_data(file_name):\n",
        "    f = open(file_name, 'r')\n",
        "\n",
        "    data = []\n",
        "    # Discard header line\n",
        "    f.readline()\n",
        "    for instance in f.readlines():\n",
        "        if not re.search('\\t', instance): continue\n",
        "        instance = list(map(int, instance.strip().split('\\t')))\n",
        "        # Add a dummy input so that w0 becomes the bias\n",
        "        instance = [-1] + instance\n",
        "        data += [instance]\n",
        "    return data\n"
      ]
    },
    {
      "cell_type": "code",
      "execution_count": 5,
      "metadata": {},
      "outputs": [],
      "source": [
        "# Create dot product function\n",
        "def dot_product(array1, array2):\n",
        "    product = 0\n",
        "    for array1, array2 in zip(array1, array2):\n",
        "        product = product + (array1 * array2)\n",
        "    return product "
      ]
    },
    {
      "cell_type": "code",
      "execution_count": 6,
      "metadata": {},
      "outputs": [],
      "source": [
        "# Create a function to calcuclate sigmoid function\n",
        "def sigmoid(x):\n",
        "    value = 1 / (1 + math.exp(-x))\n",
        "    return value"
      ]
    },
    {
      "cell_type": "code",
      "execution_count": 7,
      "metadata": {},
      "outputs": [],
      "source": [
        "# The output of the model, which for the perceptron is \n",
        "# the sigmoid function applied to the dot product of \n",
        "# the instance and the weights\n",
        "def output(weight, instance):\n",
        "    out = sigmoid(dot_product(instance, weight))\n",
        "    return out"
      ]
    },
    {
      "cell_type": "code",
      "execution_count": 8,
      "metadata": {
        "id": "cXAsP_lw3QwJ"
      },
      "outputs": [],
      "source": [
        "# Predict the label of an instance; this is the definition of the perceptron\n",
        "# you should output 1 if the output is >= 0.5 else output 0\n",
        "def predict(weights, instance):\n",
        "    out = sigmoid(dot_product(instance, weights))\n",
        "    if out >= 0.5:\n",
        "        return 1\n",
        "    else:\n",
        "        return 0"
      ]
    },
    {
      "cell_type": "code",
      "execution_count": 9,
      "metadata": {},
      "outputs": [],
      "source": [
        "# Accuracy = percent of correct predictions\n",
        "def get_accuracy(weights, instances):\n",
        "    # You do not to write code like this, but get used to it\n",
        "    correct = sum([1 if predict(weights, instance) == instance[-1] else 0\n",
        "                   for instance in instances])\n",
        "    return correct * 100 / len(instances)"
      ]
    },
    {
      "cell_type": "code",
      "execution_count": 10,
      "metadata": {},
      "outputs": [],
      "source": [
        "# Train a perceptron with instances and hyperparameters:\n",
        "#       lr (learning rate) \n",
        "#       epochs\n",
        "# The implementation comes from the definition of the perceptron\n",
        "#\n",
        "# Training consists on fitting the parameters which are the weights\n",
        "# that's the only thing training is responsible to fit\n",
        "# (recall that w0 is the bias, and w1..wn are the weights for each coordinate)\n",
        "#\n",
        "# Hyperparameters (lr and epochs) are given to the training algorithm\n",
        "# We are updating weights in the opposite direction of the gradient of the error,\n",
        "# so with a \"decent\" lr we are guaranteed to reduce the error after each iteration.\n",
        "def train_perceptron(instances, lr, epochs):\n",
        "\n",
        "    # Intializing the weights\n",
        "    weights = [0] * (len(instances[0])-1)\n",
        "\n",
        "    for e in range(epochs):\n",
        "        for instance in instances:\n",
        "            # Calculating error\n",
        "            in_value = dot_product(weights, instance)\n",
        "            output = sigmoid(in_value)\n",
        "            error = instance[-1] - output\n",
        "            # Updating weights\n",
        "            for i in range(0, len(weights)):\n",
        "                weights[i] += lr * error * output * (1-output) * instance[i]\n",
        "\n",
        "    return weights"
      ]
    },
    {
      "cell_type": "markdown",
      "metadata": {
        "id": "adBZuMlAwiBT"
      },
      "source": [
        "## Run it"
      ]
    },
    {
      "cell_type": "code",
      "execution_count": 11,
      "metadata": {},
      "outputs": [],
      "source": [
        "instances_tr = read_data(\"train.dat\")\n",
        "instances_te = read_data(\"test.dat\")"
      ]
    },
    {
      "cell_type": "code",
      "execution_count": 12,
      "metadata": {
        "id": "50YvUza-BYQF"
      },
      "outputs": [
        {
          "name": "stdout",
          "output_type": "stream",
          "text": [
            "#tr: 400, epochs:   5, learning rate: 0.005; Accuracy (test, 100 instances): 68.0\n"
          ]
        }
      ],
      "source": [
        "lr = 0.005\n",
        "epochs = 5\n",
        "weights = train_perceptron(instances_tr, lr, epochs)\n",
        "accuracy = get_accuracy(weights, instances_te)\n",
        "print(f\"#tr: {len(instances_tr):3}, epochs: {epochs:3}, learning rate: {lr:.3f}; \"\n",
        "      f\"Accuracy (test, {len(instances_te)} instances): {accuracy:.1f}\")"
      ]
    },
    {
      "cell_type": "markdown",
      "metadata": {
        "id": "CBXkvaiQMohX"
      },
      "source": [
        "## Questions\n",
        "\n",
        "Answer the following questions. Include your implementation and the output for each question."
      ]
    },
    {
      "cell_type": "markdown",
      "metadata": {
        "id": "YCQ6BEk1CBlr"
      },
      "source": [
        "\n",
        "\n",
        "### Question 1\n",
        "\n",
        "In `train_perceptron(instances, lr, epochs)`, we have the follosing code:\n",
        "```\n",
        "in_value = dot_product(weights, instance)\n",
        "output = sigmoid(in_value)\n",
        "error = instance[-1] - output\n",
        "```\n",
        "\n",
        "Why don't we have the following code snippet instead?\n",
        "```\n",
        "output = predict(weights, instance)\n",
        "error = instance[-1] - output\n",
        "```\n",
        "\n",
        "#### TODO Add your answer here (text only)\n",
        "\n",
        "\n"
      ]
    },
    {
      "cell_type": "markdown",
      "metadata": {},
      "source": [
        "Predict function rounds off the value and would result in 1 or 0 whereas we need the output value in decimals so we can calculate the difference and modify weights for the next epoch. When we use dot_product and sigmoid function seperately, we get results in decimal which can help determine the error and calculate new weights for the next epoch."
      ]
    },
    {
      "cell_type": "markdown",
      "metadata": {
        "id": "JU3c3m6YL2rK"
      },
      "source": [
        "### Question 2\n",
        "Train the perceptron with the following hyperparameters and calculate the accuracy with the test dataset.\n",
        "\n",
        "```\n",
        "tr_percent = [5, 10, 25, 50, 75, 100] # percent of the training dataset to train with\n",
        "num_epochs = [5, 10, 20, 50, 100]              # number of epochs\n",
        "lr = [0.005, 0.01, 0.05]              # learning rate\n",
        "```\n",
        "\n",
        "TODO: Write your code below and include the output at the end of each training loop (NOT AFTER EACH EPOCH)\n",
        "of your code.The output should look like the following:\n",
        "```\n",
        "# tr:  20, epochs:   5, learning rate: 0.005; Accuracy (test, 100 instances): 68.0\n",
        "# tr:  20, epochs:  10, learning rate: 0.005; Accuracy (test, 100 instances): 68.0\n",
        "# tr:  20, epochs:  20, learning rate: 0.005; Accuracy (test, 100 instances): 68.0\n",
        "[and so on for all the combinations]\n",
        "```\n",
        "You will get different results with different hyperparameters.\n",
        "\n",
        "#### TODO Add your answer here (code and output in the format above) \n"
      ]
    },
    {
      "cell_type": "code",
      "execution_count": 73,
      "metadata": {},
      "outputs": [],
      "source": [
        "instances_tr = read_data(\"train.dat\")\n",
        "instances_te = read_data(\"test.dat\")\n",
        "tr_percent = [5, 10, 25, 50, 75, 100] # percent of the training dataset to train with\n",
        "num_epochs = [5, 10, 20, 50, 100]     # number of epochs\n",
        "lr_array = [0.005, 0.01, 0.05]        # learning rate\n",
        "final_data = {'Percent Dataset': [],\n",
        "              'Learning Rate': [],\n",
        "              'Epochs': [],\n",
        "              'Accuracy': []}"
      ]
    },
    {
      "cell_type": "code",
      "execution_count": 74,
      "metadata": {
        "id": "G-VKJOUu2BTp"
      },
      "outputs": [
        {
          "name": "stdout",
          "output_type": "stream",
          "text": [
            "#tr: 20, learning rate: 0.005, epochs:   5; Accuracy (test, 100 instances): 68.0\n",
            "#tr: 20, learning rate: 0.005, epochs:  10; Accuracy (test, 100 instances): 68.0\n",
            "#tr: 20, learning rate: 0.005, epochs:  20; Accuracy (test, 100 instances): 68.0\n",
            "#tr: 20, learning rate: 0.005, epochs:  50; Accuracy (test, 100 instances): 68.0\n",
            "#tr: 20, learning rate: 0.005, epochs: 100; Accuracy (test, 100 instances): 68.0\n",
            "#tr: 20, learning rate: 0.010, epochs:   5; Accuracy (test, 100 instances): 68.0\n",
            "#tr: 20, learning rate: 0.010, epochs:  10; Accuracy (test, 100 instances): 68.0\n",
            "#tr: 20, learning rate: 0.010, epochs:  20; Accuracy (test, 100 instances): 68.0\n",
            "#tr: 20, learning rate: 0.010, epochs:  50; Accuracy (test, 100 instances): 68.0\n",
            "#tr: 20, learning rate: 0.010, epochs: 100; Accuracy (test, 100 instances): 68.0\n",
            "#tr: 20, learning rate: 0.050, epochs:   5; Accuracy (test, 100 instances): 68.0\n",
            "#tr: 20, learning rate: 0.050, epochs:  10; Accuracy (test, 100 instances): 68.0\n",
            "#tr: 20, learning rate: 0.050, epochs:  20; Accuracy (test, 100 instances): 68.0\n",
            "#tr: 20, learning rate: 0.050, epochs:  50; Accuracy (test, 100 instances): 68.0\n",
            "#tr: 20, learning rate: 0.050, epochs: 100; Accuracy (test, 100 instances): 64.0\n",
            "#tr: 40, learning rate: 0.005, epochs:   5; Accuracy (test, 100 instances): 68.0\n",
            "#tr: 40, learning rate: 0.005, epochs:  10; Accuracy (test, 100 instances): 68.0\n",
            "#tr: 40, learning rate: 0.005, epochs:  20; Accuracy (test, 100 instances): 68.0\n",
            "#tr: 40, learning rate: 0.005, epochs:  50; Accuracy (test, 100 instances): 68.0\n",
            "#tr: 40, learning rate: 0.005, epochs: 100; Accuracy (test, 100 instances): 68.0\n",
            "#tr: 40, learning rate: 0.010, epochs:   5; Accuracy (test, 100 instances): 68.0\n",
            "#tr: 40, learning rate: 0.010, epochs:  10; Accuracy (test, 100 instances): 68.0\n",
            "#tr: 40, learning rate: 0.010, epochs:  20; Accuracy (test, 100 instances): 68.0\n",
            "#tr: 40, learning rate: 0.010, epochs:  50; Accuracy (test, 100 instances): 68.0\n",
            "#tr: 40, learning rate: 0.010, epochs: 100; Accuracy (test, 100 instances): 68.0\n",
            "#tr: 40, learning rate: 0.050, epochs:   5; Accuracy (test, 100 instances): 68.0\n",
            "#tr: 40, learning rate: 0.050, epochs:  10; Accuracy (test, 100 instances): 68.0\n",
            "#tr: 40, learning rate: 0.050, epochs:  20; Accuracy (test, 100 instances): 68.0\n",
            "#tr: 40, learning rate: 0.050, epochs:  50; Accuracy (test, 100 instances): 71.0\n",
            "#tr: 40, learning rate: 0.050, epochs: 100; Accuracy (test, 100 instances): 69.0\n",
            "#tr: 100, learning rate: 0.005, epochs:   5; Accuracy (test, 100 instances): 68.0\n",
            "#tr: 100, learning rate: 0.005, epochs:  10; Accuracy (test, 100 instances): 68.0\n",
            "#tr: 100, learning rate: 0.005, epochs:  20; Accuracy (test, 100 instances): 68.0\n",
            "#tr: 100, learning rate: 0.005, epochs:  50; Accuracy (test, 100 instances): 68.0\n",
            "#tr: 100, learning rate: 0.005, epochs: 100; Accuracy (test, 100 instances): 68.0\n",
            "#tr: 100, learning rate: 0.010, epochs:   5; Accuracy (test, 100 instances): 68.0\n",
            "#tr: 100, learning rate: 0.010, epochs:  10; Accuracy (test, 100 instances): 68.0\n",
            "#tr: 100, learning rate: 0.010, epochs:  20; Accuracy (test, 100 instances): 68.0\n",
            "#tr: 100, learning rate: 0.010, epochs:  50; Accuracy (test, 100 instances): 68.0\n",
            "#tr: 100, learning rate: 0.010, epochs: 100; Accuracy (test, 100 instances): 71.0\n",
            "#tr: 100, learning rate: 0.050, epochs:   5; Accuracy (test, 100 instances): 68.0\n",
            "#tr: 100, learning rate: 0.050, epochs:  10; Accuracy (test, 100 instances): 67.0\n",
            "#tr: 100, learning rate: 0.050, epochs:  20; Accuracy (test, 100 instances): 70.0\n",
            "#tr: 100, learning rate: 0.050, epochs:  50; Accuracy (test, 100 instances): 74.0\n",
            "#tr: 100, learning rate: 0.050, epochs: 100; Accuracy (test, 100 instances): 77.0\n",
            "#tr: 200, learning rate: 0.005, epochs:   5; Accuracy (test, 100 instances): 68.0\n",
            "#tr: 200, learning rate: 0.005, epochs:  10; Accuracy (test, 100 instances): 68.0\n",
            "#tr: 200, learning rate: 0.005, epochs:  20; Accuracy (test, 100 instances): 68.0\n",
            "#tr: 200, learning rate: 0.005, epochs:  50; Accuracy (test, 100 instances): 67.0\n",
            "#tr: 200, learning rate: 0.005, epochs: 100; Accuracy (test, 100 instances): 74.0\n",
            "#tr: 200, learning rate: 0.010, epochs:   5; Accuracy (test, 100 instances): 68.0\n",
            "#tr: 200, learning rate: 0.010, epochs:  10; Accuracy (test, 100 instances): 68.0\n",
            "#tr: 200, learning rate: 0.010, epochs:  20; Accuracy (test, 100 instances): 68.0\n",
            "#tr: 200, learning rate: 0.010, epochs:  50; Accuracy (test, 100 instances): 74.0\n",
            "#tr: 200, learning rate: 0.010, epochs: 100; Accuracy (test, 100 instances): 78.0\n",
            "#tr: 200, learning rate: 0.050, epochs:   5; Accuracy (test, 100 instances): 71.0\n",
            "#tr: 200, learning rate: 0.050, epochs:  10; Accuracy (test, 100 instances): 77.0\n",
            "#tr: 200, learning rate: 0.050, epochs:  20; Accuracy (test, 100 instances): 78.0\n",
            "#tr: 200, learning rate: 0.050, epochs:  50; Accuracy (test, 100 instances): 78.0\n",
            "#tr: 200, learning rate: 0.050, epochs: 100; Accuracy (test, 100 instances): 76.0\n",
            "#tr: 300, learning rate: 0.005, epochs:   5; Accuracy (test, 100 instances): 68.0\n",
            "#tr: 300, learning rate: 0.005, epochs:  10; Accuracy (test, 100 instances): 68.0\n",
            "#tr: 300, learning rate: 0.005, epochs:  20; Accuracy (test, 100 instances): 68.0\n",
            "#tr: 300, learning rate: 0.005, epochs:  50; Accuracy (test, 100 instances): 74.0\n",
            "#tr: 300, learning rate: 0.005, epochs: 100; Accuracy (test, 100 instances): 78.0\n",
            "#tr: 300, learning rate: 0.010, epochs:   5; Accuracy (test, 100 instances): 68.0\n",
            "#tr: 300, learning rate: 0.010, epochs:  10; Accuracy (test, 100 instances): 68.0\n",
            "#tr: 300, learning rate: 0.010, epochs:  20; Accuracy (test, 100 instances): 70.0\n",
            "#tr: 300, learning rate: 0.010, epochs:  50; Accuracy (test, 100 instances): 78.0\n",
            "#tr: 300, learning rate: 0.010, epochs: 100; Accuracy (test, 100 instances): 80.0\n",
            "#tr: 300, learning rate: 0.050, epochs:   5; Accuracy (test, 100 instances): 74.0\n",
            "#tr: 300, learning rate: 0.050, epochs:  10; Accuracy (test, 100 instances): 78.0\n",
            "#tr: 300, learning rate: 0.050, epochs:  20; Accuracy (test, 100 instances): 79.0\n",
            "#tr: 300, learning rate: 0.050, epochs:  50; Accuracy (test, 100 instances): 78.0\n",
            "#tr: 300, learning rate: 0.050, epochs: 100; Accuracy (test, 100 instances): 77.0\n",
            "#tr: 400, learning rate: 0.005, epochs:   5; Accuracy (test, 100 instances): 68.0\n",
            "#tr: 400, learning rate: 0.005, epochs:  10; Accuracy (test, 100 instances): 68.0\n",
            "#tr: 400, learning rate: 0.005, epochs:  20; Accuracy (test, 100 instances): 69.0\n",
            "#tr: 400, learning rate: 0.005, epochs:  50; Accuracy (test, 100 instances): 73.0\n",
            "#tr: 400, learning rate: 0.005, epochs: 100; Accuracy (test, 100 instances): 77.0\n",
            "#tr: 400, learning rate: 0.010, epochs:   5; Accuracy (test, 100 instances): 68.0\n",
            "#tr: 400, learning rate: 0.010, epochs:  10; Accuracy (test, 100 instances): 69.0\n",
            "#tr: 400, learning rate: 0.010, epochs:  20; Accuracy (test, 100 instances): 70.0\n",
            "#tr: 400, learning rate: 0.010, epochs:  50; Accuracy (test, 100 instances): 77.0\n",
            "#tr: 400, learning rate: 0.010, epochs: 100; Accuracy (test, 100 instances): 80.0\n",
            "#tr: 400, learning rate: 0.050, epochs:   5; Accuracy (test, 100 instances): 69.0\n",
            "#tr: 400, learning rate: 0.050, epochs:  10; Accuracy (test, 100 instances): 76.0\n",
            "#tr: 400, learning rate: 0.050, epochs:  20; Accuracy (test, 100 instances): 80.0\n",
            "#tr: 400, learning rate: 0.050, epochs:  50; Accuracy (test, 100 instances): 80.0\n",
            "#tr: 400, learning rate: 0.050, epochs: 100; Accuracy (test, 100 instances): 80.0\n"
          ]
        }
      ],
      "source": [
        "for tr_size in tr_percent:\n",
        "  for lr in lr_array:\n",
        "    for epochs in num_epochs:\n",
        "      size =  round(len(instances_tr) * tr_size/100)\n",
        "      pre_instances = instances_tr[0:size]\n",
        "      weights = train_perceptron(pre_instances, lr, epochs)\n",
        "      accuracy = get_accuracy(weights, instances_te)\n",
        "      final_data['Percent Dataset'].append(tr_size)\n",
        "      final_data['Learning Rate'].append(round(lr,3))\n",
        "      final_data['Epochs'].append(epochs)\n",
        "      final_data['Accuracy'].append(round(accuracy,1))\n",
        "      print(f\"#tr: {len(pre_instances):0}, learning rate: {lr:.3f}, epochs: {epochs:3}; \"\n",
        "            f\"Accuracy (test, {len(instances_te)} instances): {accuracy:.1f}\")\n",
        "      "
      ]
    },
    {
      "cell_type": "code",
      "execution_count": 63,
      "metadata": {},
      "outputs": [
        {
          "data": {
            "text/html": [
              "<div>\n",
              "<style scoped>\n",
              "    .dataframe tbody tr th:only-of-type {\n",
              "        vertical-align: middle;\n",
              "    }\n",
              "\n",
              "    .dataframe tbody tr th {\n",
              "        vertical-align: top;\n",
              "    }\n",
              "\n",
              "    .dataframe thead th {\n",
              "        text-align: right;\n",
              "    }\n",
              "</style>\n",
              "<table border=\"1\" class=\"dataframe\">\n",
              "  <thead>\n",
              "    <tr style=\"text-align: right;\">\n",
              "      <th></th>\n",
              "      <th>Percent Dataset</th>\n",
              "      <th>Learning Rate</th>\n",
              "      <th>Epochs</th>\n",
              "      <th>Accuracy</th>\n",
              "    </tr>\n",
              "  </thead>\n",
              "  <tbody>\n",
              "    <tr>\n",
              "      <th>0</th>\n",
              "      <td>5</td>\n",
              "      <td>0.005</td>\n",
              "      <td>5</td>\n",
              "      <td>68.0</td>\n",
              "    </tr>\n",
              "    <tr>\n",
              "      <th>1</th>\n",
              "      <td>5</td>\n",
              "      <td>0.005</td>\n",
              "      <td>10</td>\n",
              "      <td>68.0</td>\n",
              "    </tr>\n",
              "    <tr>\n",
              "      <th>2</th>\n",
              "      <td>5</td>\n",
              "      <td>0.005</td>\n",
              "      <td>20</td>\n",
              "      <td>68.0</td>\n",
              "    </tr>\n",
              "    <tr>\n",
              "      <th>3</th>\n",
              "      <td>5</td>\n",
              "      <td>0.005</td>\n",
              "      <td>50</td>\n",
              "      <td>68.0</td>\n",
              "    </tr>\n",
              "    <tr>\n",
              "      <th>4</th>\n",
              "      <td>5</td>\n",
              "      <td>0.005</td>\n",
              "      <td>100</td>\n",
              "      <td>68.0</td>\n",
              "    </tr>\n",
              "    <tr>\n",
              "      <th>...</th>\n",
              "      <td>...</td>\n",
              "      <td>...</td>\n",
              "      <td>...</td>\n",
              "      <td>...</td>\n",
              "    </tr>\n",
              "    <tr>\n",
              "      <th>121</th>\n",
              "      <td>100</td>\n",
              "      <td>0.050</td>\n",
              "      <td>20</td>\n",
              "      <td>80.0</td>\n",
              "    </tr>\n",
              "    <tr>\n",
              "      <th>122</th>\n",
              "      <td>100</td>\n",
              "      <td>0.050</td>\n",
              "      <td>50</td>\n",
              "      <td>80.0</td>\n",
              "    </tr>\n",
              "    <tr>\n",
              "      <th>123</th>\n",
              "      <td>100</td>\n",
              "      <td>0.050</td>\n",
              "      <td>100</td>\n",
              "      <td>80.0</td>\n",
              "    </tr>\n",
              "    <tr>\n",
              "      <th>124</th>\n",
              "      <td>100</td>\n",
              "      <td>0.050</td>\n",
              "      <td>200</td>\n",
              "      <td>80.0</td>\n",
              "    </tr>\n",
              "    <tr>\n",
              "      <th>125</th>\n",
              "      <td>100</td>\n",
              "      <td>0.050</td>\n",
              "      <td>300</td>\n",
              "      <td>79.0</td>\n",
              "    </tr>\n",
              "  </tbody>\n",
              "</table>\n",
              "<p>126 rows × 4 columns</p>\n",
              "</div>"
            ],
            "text/plain": [
              "     Percent Dataset  Learning Rate  Epochs  Accuracy\n",
              "0                  5          0.005       5      68.0\n",
              "1                  5          0.005      10      68.0\n",
              "2                  5          0.005      20      68.0\n",
              "3                  5          0.005      50      68.0\n",
              "4                  5          0.005     100      68.0\n",
              "..               ...            ...     ...       ...\n",
              "121              100          0.050      20      80.0\n",
              "122              100          0.050      50      80.0\n",
              "123              100          0.050     100      80.0\n",
              "124              100          0.050     200      80.0\n",
              "125              100          0.050     300      79.0\n",
              "\n",
              "[126 rows x 4 columns]"
            ]
          },
          "execution_count": 63,
          "metadata": {},
          "output_type": "execute_result"
        }
      ],
      "source": [
        "final_df = pd.DataFrame(final_data)\n",
        "final_df"
      ]
    },
    {
      "cell_type": "code",
      "execution_count": 64,
      "metadata": {},
      "outputs": [
        {
          "data": {
            "image/png": "[encoded data removed]",
            "text/plain": [
              "<Figure size 432x288 with 2 Axes>"
            ]
          },
          "metadata": {
            "needs_background": "light"
          },
          "output_type": "display_data"
        }
      ],
      "source": [
        "from mpl_toolkits.mplot3d import Axes3D\n",
        "import matplotlib.pyplot as plt\n",
        "import numpy as np\n",
        "\n",
        "fig = plt.figure()\n",
        "ax = fig.add_subplot(111, projection='3d')\n",
        "\n",
        "x = final_df[\"Learning Rate\"]\n",
        "y = final_df[\"Epochs\"]\n",
        "z = final_df[\"Percent Dataset\"]\n",
        "c = final_df[\"Accuracy\"]\n",
        "\n",
        "img = ax.scatter(x, y, z, c=c, cmap=plt.cool())\n",
        "fig.colorbar(img)\n",
        "plt.show()"
      ]
    },
    {
      "cell_type": "markdown",
      "metadata": {
        "id": "OFB9MtwML24O"
      },
      "source": [
        "### Question 3\n",
        "Write a couple paragraphs interpreting the results with all the combinations of hyperparameters. Drawing a plot will probably help you make a point. In particular, answer the following:\n",
        "- A. Do you need to train with all the training dataset to get the highest accuracy with the test dataset?\n",
        "- B. How do you justify that training the second run obtains worse accuracy than the first one (despite the second one uses more training data)?\n",
        "   ```\n",
        "#tr: 100, epochs:  20, learning rate: 0.050; Accuracy (test, 100 instances): 71.0\n",
        "#tr: 200, epochs:  20, learning rate: 0.005; Accuracy (test, 100 instances): 68.0\n",
        "```\n",
        "- C. Can you get higher accuracy with additional hyperparameters (higher than `80.0`)?\n",
        "- D. Is it always worth training for more epochs (while keeping all other hyperparameters fixed)?\n",
        "\n",
        "#### TODO: Add your answer here (code and text)\n",
        "\n"
      ]
    },
    {
      "cell_type": "markdown",
      "metadata": {
        "id": "38rA_Kp3wiBX"
      },
      "source": [
        "A: Yes we need to train with all the training dataset as the graph above shows that the Accuracy increases with increase in dataset percentage. More samples help the model to learn the pattern and make better decisions on test dataset.\n",
        "\n",
        "B: Because the learning rate dropped which didn't allow the accuracy to reach to the maximum as there were just not enough epochs for given learning rate.\n",
        "\n",
        "C: There are only three things that can be changed in a single perceptron model which has been modified here in our example which means that there can't be any other new hyperparameter that can be modified. Now we can look at the same hyperparameters with larger number of epochs for smaller learning rate which could result in better accuracy for the given model than what we have seen for given learning rate but even those accuracy would stop at '80.0'.\n",
        "\n",
        "D: No it is not worth training for more epochs as the graph above shows that for given learning rate and dataset percentage, number of epochs suitable are more in the middle of the range when the learning rate is highest. It could be worth training for larger number of epochs if the learning rate is very low as it will take the model longer to make significant adjustment in error with smaller learning rate but smaller learning rate does help the model to have better prediction especially in a neural network."
      ]
    }
  ],
  "metadata": {
    "accelerator": "GPU",
    "colab": {
      "collapsed_sections": [],
      "name": "HW2_The_Perceptron.ipynb",
      "provenance": []
    },
    "kernelspec": {
      "display_name": "Python 3",
      "name": "python3"
    },
    "language_info": {
      "codemirror_mode": {
        "name": "ipython",
        "version": 3
      },
      "file_extension": ".py",
      "mimetype": "text/x-python",
      "name": "python",
      "nbconvert_exporter": "python",
      "pygments_lexer": "ipython3",
      "version": "3.8.9"
    }
  },
  "nbformat": 4,
  "nbformat_minor": 0
}
